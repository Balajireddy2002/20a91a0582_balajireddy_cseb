{
 "cells": [
  {
   "cell_type": "markdown",
   "source": [
    "set methods\r\n",
    "\r\n",
    "\r\n",
    "\r\n",
    "add()-> adds an element to the set\r\n",
    "\r\n",
    "remove()->delete an element from a set\r\n",
    "\r\n",
    "discard()->delete an element from a set\r\n",
    "\r\n",
    "copy()-> copy elements from source to destination set\r\n",
    "\r\n",
    "clear()-> clear the set\r\n",
    "\r\n",
    "pop()-> removes an element from a set\r\n",
    "\r\n",
    "mathematical operations of a list\r\n",
    "\r\n",
    "union()-> returns a set with elements present in both sets\r\n",
    "\r\n",
    "intersection()-> returns a set with common elements of both sets\r\n",
    "\r\n",
    "differnce()-> returns  the elements of set1 which are not present in set2\r\n",
    "\r\n",
    "symetric differce()- returns the elements of set1 or set2 but not in both"
   ],
   "metadata": {}
  },
  {
   "cell_type": "code",
   "execution_count": 3,
   "source": [
    "s=set(input() for i in range(5))\r\n",
    "s.add(10)\r\n",
    "print(s)"
   ],
   "outputs": [
    {
     "output_type": "stream",
     "name": "stdout",
     "text": [
      "{'3', '4', 10, '5', '2', '1'}\n"
     ]
    }
   ],
   "metadata": {}
  },
  {
   "cell_type": "code",
   "execution_count": 6,
   "source": [
    "s.remove(10)\r\n",
    "print(s)"
   ],
   "outputs": [
    {
     "output_type": "stream",
     "name": "stdout",
     "text": [
      "{'3', '4', '5', '2', '1'}\n"
     ]
    }
   ],
   "metadata": {}
  },
  {
   "cell_type": "code",
   "execution_count": 8,
   "source": [
    "s={1,2,3,4,5}\r\n",
    "s.discard(3)\r\n",
    "print(s)"
   ],
   "outputs": [
    {
     "output_type": "stream",
     "name": "stdout",
     "text": [
      "{1, 2, 4, 5}\n"
     ]
    }
   ],
   "metadata": {}
  },
  {
   "cell_type": "code",
   "execution_count": 9,
   "source": [
    "s.clear()\r\n",
    "print(s)"
   ],
   "outputs": [
    {
     "output_type": "stream",
     "name": "stdout",
     "text": [
      "set()\n"
     ]
    }
   ],
   "metadata": {}
  },
  {
   "cell_type": "code",
   "execution_count": 10,
   "source": [
    "#copy()\r\n",
    "a={1,2,3}\r\n",
    "b=a.copy()\r\n",
    "print(b)"
   ],
   "outputs": [
    {
     "output_type": "stream",
     "name": "stdout",
     "text": [
      "{1, 2, 3}\n"
     ]
    }
   ],
   "metadata": {}
  },
  {
   "cell_type": "code",
   "execution_count": 11,
   "source": [
    "b={1,2,3}\r\n",
    "b.pop()\r\n",
    "print(b)"
   ],
   "outputs": [
    {
     "output_type": "stream",
     "name": "stdout",
     "text": [
      "{2, 3}\n"
     ]
    }
   ],
   "metadata": {}
  },
  {
   "cell_type": "markdown",
   "source": [
    "mathematical operations\r\n"
   ],
   "metadata": {}
  },
  {
   "cell_type": "code",
   "execution_count": 12,
   "source": [
    "#union()\r\n",
    "a={1,2,3,4}\r\n",
    "b={5,6,7,8}\r\n",
    "a.union(b)"
   ],
   "outputs": [
    {
     "output_type": "execute_result",
     "data": {
      "text/plain": [
       "{1, 2, 3, 4, 5, 6, 7, 8}"
      ]
     },
     "metadata": {},
     "execution_count": 12
    }
   ],
   "metadata": {}
  },
  {
   "cell_type": "code",
   "execution_count": 13,
   "source": [
    "#intersection()\r\n",
    "x={1,2,3,45}\r\n",
    "y={1,9,8,7}\r\n",
    "x.intersection(y)\r\n"
   ],
   "outputs": [
    {
     "output_type": "execute_result",
     "data": {
      "text/plain": [
       "{1}"
      ]
     },
     "metadata": {},
     "execution_count": 13
    }
   ],
   "metadata": {}
  },
  {
   "cell_type": "code",
   "execution_count": 14,
   "source": [
    "#differce()\r\n",
    "x={1,23,4,5,6}\r\n",
    "y={4,6,20,5}\r\n",
    "x.difference(y)"
   ],
   "outputs": [
    {
     "output_type": "execute_result",
     "data": {
      "text/plain": [
       "{1, 23}"
      ]
     },
     "metadata": {},
     "execution_count": 14
    }
   ],
   "metadata": {}
  },
  {
   "cell_type": "code",
   "execution_count": 15,
   "source": [
    "x={1,2,3,4,56}\r\n",
    "y={5,6,7,8,9,1,2,3}\r\n",
    "x.symmetric_difference(y)"
   ],
   "outputs": [
    {
     "output_type": "execute_result",
     "data": {
      "text/plain": [
       "{4, 5, 6, 7, 8, 9, 56}"
      ]
     },
     "metadata": {},
     "execution_count": 15
    }
   ],
   "metadata": {}
  }
 ],
 "metadata": {
  "orig_nbformat": 4,
  "language_info": {
   "name": "python",
   "version": "3.9.5",
   "mimetype": "text/x-python",
   "codemirror_mode": {
    "name": "ipython",
    "version": 3
   },
   "pygments_lexer": "ipython3",
   "nbconvert_exporter": "python",
   "file_extension": ".py"
  },
  "kernelspec": {
   "name": "python3",
   "display_name": "Python 3.9.5 64-bit"
  },
  "interpreter": {
   "hash": "999a1b757e9a1e569d1354e957c0f9a55f5e3cfbf534fec54f41f79ee175ede0"
  }
 },
 "nbformat": 4,
 "nbformat_minor": 2
}