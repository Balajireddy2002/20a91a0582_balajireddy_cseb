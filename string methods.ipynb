{
 "cells": [
  {
   "cell_type": "markdown",
   "source": [
    "string methods\r\n",
    "\r\n",
    "s.count(val[,starts[,end]])\r\n",
    "\r\n",
    "s.find(val[,start[,end]])\r\n",
    "\r\n",
    "s.replace(old,new)\r\n",
    "\r\n",
    "s.isalnum()\r\n",
    "\r\n",
    "s.isalpha()\r\n",
    "\r\n",
    "s.isdigit()\r\n",
    "\r\n",
    "s.startswith()\r\n",
    "\r\n",
    "s.endswith()\r\n",
    "\r\n",
    "s.split(sep)\r\n",
    "\r\n",
    "s.join(sep)\r\n",
    "\r\n",
    "s.lower()\r\n",
    "\r\n",
    "s.upper()\r\n",
    "\r\n",
    "s.strip()"
   ],
   "metadata": {}
  },
  {
   "cell_type": "code",
   "execution_count": 1,
   "source": [
    "s=\"balaji reddy\"\r\n",
    "print(s.count('a'))\r\n",
    "print(s.find('d'))\r\n",
    "print(s.isalpha())\r\n",
    "print(s.isalnum())\r\n",
    "s.replace(\"reddy\",\"goluguri\")\r\n",
    "print(s.startswith(s))\r\n",
    "print(s.endswith('y'))\r\n",
    "print(s.lower())\r\n",
    "print(s.upper())\r\n",
    "l=s.split( )\r\n",
    "print(l)\r\n",
    "t=(\"reddy\",\"balaji\",\"naga\")\r\n",
    "st=\" \".join(t)\r\n",
    "print(st)\r\n",
    "print(s.strip())"
   ],
   "outputs": [
    {
     "output_type": "stream",
     "name": "stdout",
     "text": [
      "2\n",
      "9\n",
      "False\n",
      "False\n",
      "True\n",
      "True\n",
      "balaji reddy\n",
      "BALAJI REDDY\n",
      "['balaji', 'reddy']\n",
      "reddy balaji naga\n",
      "balaji reddy\n"
     ]
    }
   ],
   "metadata": {}
  }
 ],
 "metadata": {
  "orig_nbformat": 4,
  "language_info": {
   "name": "python",
   "version": "3.9.5",
   "mimetype": "text/x-python",
   "codemirror_mode": {
    "name": "ipython",
    "version": 3
   },
   "pygments_lexer": "ipython3",
   "nbconvert_exporter": "python",
   "file_extension": ".py"
  },
  "kernelspec": {
   "name": "python3",
   "display_name": "Python 3.9.5 64-bit"
  },
  "interpreter": {
   "hash": "999a1b757e9a1e569d1354e957c0f9a55f5e3cfbf534fec54f41f79ee175ede0"
  }
 },
 "nbformat": 4,
 "nbformat_minor": 2
}