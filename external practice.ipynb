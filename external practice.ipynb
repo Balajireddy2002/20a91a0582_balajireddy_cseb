{
 "cells": [
  {
   "cell_type": "code",
   "execution_count": 27,
   "source": [
    "rows1=int(input(\"enter no of rows\"))\r\n",
    "cols1=int(input(\"enter nom of cols\"))\r\n",
    "print(\"enter first matrix\")\r\n",
    "mat1=[[int(input())for j in range(cols1)]for i in range(rows1)]\r\n",
    "for i in range(rows1):\r\n",
    "    for j in range(cols1):\r\n",
    "        print(mat1[i][j],end=' ')\r\n",
    "    print()\r\n",
    "rows2=int(input(\"enter no of rows\"))\r\n",
    "cols2=int(input(\"enter nom of cols\"))\r\n",
    "mat2=[[int(input()) for i in range(cols2)] for j in range(rows2)]\r\n",
    "for i in range(rows2):\r\n",
    "    for j in range(cols2):\r\n",
    "        print(mat1[i][j],end=' ')\r\n",
    "    print()\r\n",
    "sum=[[0 for i in range(cols2)]for j in range(rows2)]\r\n",
    "for i in range(rows2):\r\n",
    "    for j in range(cols2):\r\n",
    "       sum[i][j]=mat1[i][j]+mat2[i][j]\r\n",
    "print(\"the addition of two matrices is \",end='\\n')\r\n",
    "for i in range(rows2):\r\n",
    "    for j in range(cols2):\r\n",
    "        print(sum[i][j],end=' ')\r\n",
    "    print()\r\n",
    "#code for matrix multiplication\r\n",
    "if(cols1!=rows2):\r\n",
    "    print(\"can not perform multiplication\")\r\n",
    "else:\r\n",
    "    prod=[[0 for i in range(cols2)]for j in range(rows1)]\r\n",
    "    for i in range(rows2):\r\n",
    "         for j in range(cols2):\r\n",
    "             for k in range(rows2):\r\n",
    "                   prod[i][j]+=mat1[i][k]*mat2[k][j]\r\n",
    "print(\"the product of two matrices is \")\r\n",
    "for i in range(rows1):\r\n",
    "    for j in range(cols2):\r\n",
    "        print(prod[i][j],end=' ')\r\n",
    "    print()"
   ],
   "outputs": [
    {
     "output_type": "stream",
     "name": "stdout",
     "text": [
      "enter first matrix\n",
      "1 1 1 \n",
      "1 1 1 \n",
      "1 1 1 \n",
      "1 1 1 \n",
      "1 1 1 \n",
      "1 1 1 \n",
      "the addition of two matrices is \n",
      "2 2 2 \n",
      "2 2 2 \n",
      "2 2 2 \n",
      "the product of two matrices is \n",
      "\n",
      "\n",
      "3 3 3 \n",
      "3 3 3 \n",
      "3 3 3 \n"
     ]
    }
   ],
   "metadata": {}
  },
  {
   "cell_type": "code",
   "execution_count": 1,
   "source": [
    "import random\r\n",
    "user=int(input(\"enter a number\"))\r\n",
    "rand=random.randint(1,10)\r\n",
    "if(user==rand):\r\n",
    "    print(\"your guess is TRUE\")\r\n",
    "else:\r\n",
    "    print(\"SORRY! wrong guess\")\r\n",
    "print(f'guess is {user} and random is {rand}')"
   ],
   "outputs": [
    {
     "output_type": "stream",
     "name": "stdout",
     "text": [
      "SORRY! wrong guess\n",
      "guess is 6 and random is 4\n"
     ]
    }
   ],
   "metadata": {}
  },
  {
   "cell_type": "code",
   "execution_count": 2,
   "source": [
    "num1=int(input(\"enter a number\"))\r\n",
    "num2=int(input(\"enter a number\"))\r\n",
    "diff=abs(int(num1-num2*1000/1000))\r\n",
    "if(diff<=0.01):\r\n",
    "    print(\"they are close\")\r\n",
    "else:\r\n",
    "    print(\"they are not close\")\r\n"
   ],
   "outputs": [
    {
     "output_type": "stream",
     "name": "stdout",
     "text": [
      "they are close\n"
     ]
    }
   ],
   "metadata": {}
  },
  {
   "cell_type": "code",
   "execution_count": 13,
   "source": [
    "word=input(\"enter your name\")\r\n",
    "for i in word:\r\n",
    "    if(i in'aeiouAEIOU'):\r\n",
    "        print(\"the word contains vowel\")\r\n",
    "        break\r\n",
    "else:\r\n",
    "    print(\"no vowels\")"
   ],
   "outputs": [
    {
     "output_type": "stream",
     "name": "stdout",
     "text": [
      "the word contains vowel\n"
     ]
    }
   ],
   "metadata": {}
  },
  {
   "cell_type": "code",
   "execution_count": 14,
   "source": [
    "str1=input(\"enter first string\")\r\n",
    "str2=input(\"enter 2 nd string\")\r\n",
    "res=''\r\n",
    "if(len(str1)!=len(str2)):\r\n",
    "    print(\"altering not possible\")\r\n",
    "else:\r\n",
    "    for i in range(len(str1)):\r\n",
    "        res=res+str1[i]+str2[i]\r\n",
    "print(res)"
   ],
   "outputs": [
    {
     "output_type": "stream",
     "name": "stdout",
     "text": [
      "aAbBcCdD\n"
     ]
    }
   ],
   "metadata": {}
  },
  {
   "cell_type": "code",
   "execution_count": 15,
   "source": [
    "N=int(input(\"enter a number\"))\r\n",
    "print(\"american format is{:,}\".format(N))"
   ],
   "outputs": [
    {
     "output_type": "stream",
     "name": "stdout",
     "text": [
      "american format is1,000,000\n"
     ]
    }
   ],
   "metadata": {}
  },
  {
   "cell_type": "markdown",
   "source": [
    "3X +4Y ----> 3*X +4*Y\r\n"
   ],
   "metadata": {}
  },
  {
   "cell_type": "code",
   "execution_count": 16,
   "source": [
    "exp=input(\"enter a expression\")\r\n",
    "conv=''\r\n",
    "for i in range(len(exp)-1):\r\n",
    "    if(exp[i].isdigit()and (exp[i+1].isalpha() or exp[i+1]=='(')):\r\n",
    "        conv=conv+exp[i]+'*'\r\n",
    "    elif(exp[i]==')' and exp[i+1]=='('):\r\n",
    "        conv=conv+exp[i]+'*'\r\n",
    "    else:\r\n",
    "        conv+=exp[i]\r\n",
    "conv+=exp[i+1]\r\n",
    "print(conv)"
   ],
   "outputs": [
    {
     "output_type": "stream",
     "name": "stdout",
     "text": [
      "3*v+4*y\n"
     ]
    }
   ],
   "metadata": {}
  },
  {
   "cell_type": "code",
   "execution_count": 18,
   "source": [
    "import random\r\n",
    "ls=[]\r\n",
    "count=0\r\n",
    "for i in range(20):\r\n",
    "    ls.append(random.randint(1,100))\r\n",
    "print(ls)\r\n",
    "print(\"the average is {}\".format(sum(ls)/len(ls)))\r\n",
    "print(\"the  smallest values are{}\".format(sorted(ls)[0]))\r\n",
    "print(\"largest is {}\".format(sorted(ls)[-1]))\r\n",
    "print(\"second smallest is\",sorted(ls)[1])\r\n",
    "print(\"second largest is \",sorted(ls)[-2])\r\n",
    "for i in ls:\r\n",
    "    if(i%2==0):\r\n",
    "        count+=1\r\n",
    "print(\"there are {} even numbers\".format(count))\r\n"
   ],
   "outputs": [
    {
     "output_type": "stream",
     "name": "stdout",
     "text": [
      "[26, 62, 82, 75, 58, 56, 41, 74, 17, 68, 19, 59, 95, 80, 30, 40, 30, 31, 46, 6]\n",
      "the average is 49.75\n",
      "the  smallest values are6\n",
      "largest is 95\n",
      "second smallest is 17\n",
      "second largest is  82\n",
      "there are 13 even numbers\n"
     ]
    }
   ],
   "metadata": {}
  },
  {
   "cell_type": "code",
   "execution_count": 22,
   "source": [
    "n=int(input(\"enter a number\"))\r\n",
    "ls=[]\r\n",
    "for i in range(1,n+1):\r\n",
    "    if(n%i==0):\r\n",
    "        ls.append(i)\r\n",
    "print(ls)\r\n",
    "print(*ls)"
   ],
   "outputs": [
    {
     "output_type": "stream",
     "name": "stdout",
     "text": [
      "[1, 3, 9, 27, 81]\n",
      "1 3 9 27 81\n"
     ]
    }
   ],
   "metadata": {}
  },
  {
   "cell_type": "code",
   "execution_count": 31,
   "source": [
    "ls=list(input(\"enter list consisting of repeted numbers\"))\r\n",
    "s=[]\r\n",
    "print(ls)\r\n",
    "for i in ls:\r\n",
    "    if i not in s:\r\n",
    "        s.append(i)\r\n",
    "print(\"with out duplicates\",s)\r\n"
   ],
   "outputs": [
    {
     "output_type": "stream",
     "name": "stdout",
     "text": [
      "with out duplicates ['1', '2', '3', '4']\n"
     ]
    }
   ],
   "metadata": {}
  },
  {
   "cell_type": "code",
   "execution_count": 24,
   "source": [
    "def count_zeros(ls):\r\n",
    "    count=0\r\n",
    "    maxcount=0\r\n",
    "    for i in range(len(ls)):\r\n",
    "        if(ls[i]==0):\r\n",
    "            count+=1\r\n",
    "            if(i==len(ls)-1):\r\n",
    "                if(count>maxcount):\r\n",
    "                   maxcount=count\r\n",
    "        if(ls[i]==1):\r\n",
    "            if(count>maxcount):\r\n",
    "                   maxcount=count\r\n",
    "            count=0\r\n",
    "    return maxcount\r\n",
    "\r\n",
    "import random\r\n",
    "ls=[]\r\n",
    "for i in range(100):\r\n",
    "    ls.append(random.randint(0,1))\r\n",
    "print(ls)\r\n",
    "print(count_zeros(ls))\r\n",
    "\r\n"
   ],
   "outputs": [
    {
     "output_type": "stream",
     "name": "stdout",
     "text": [
      "[0, 0, 0, 1, 0, 0, 1, 1, 1, 0, 1, 1, 0, 0, 0, 0, 1, 1, 1, 0, 1, 1, 0, 0, 0, 1, 0, 0, 0, 1, 1, 1, 0, 1, 1, 0, 0, 0, 0, 1, 1, 0, 0, 0, 0, 1, 0, 0, 0, 1, 1, 0, 1, 1, 0, 1, 1, 1, 1, 0, 1, 0, 0, 1, 0, 0, 1, 0, 1, 0, 1, 1, 0, 1, 1, 1, 0, 1, 1, 0, 1, 0, 1, 0, 0, 0, 1, 1, 0, 0, 1, 1, 0, 1, 1, 0, 0, 1, 0, 1]\n",
      "4\n"
     ]
    }
   ],
   "metadata": {}
  },
  {
   "cell_type": "code",
   "execution_count": null,
   "source": [
    "#longest run lenght\r\n",
    "import random\r\n",
    "ls=''\r\n",
    "for i in range(100):\r\n",
    "    ls.append(random.randint(0,1))\r\n",
    "print(ls)\r\n",
    "for i in range(len(ls)):\r\n",
    "    count=0\r\n",
    "    maxcount=0\r\n",
    "    if(ls[i]==0):\r\n",
    "        count+=1\r\n",
    "        if(i==len(ls)-1):\r\n",
    "            if(count>maxcount):\r\n",
    "                maxcount=count\r\n",
    "    if(ls[i]==1):\r\n",
    "        if(count>maxcount):\r\n",
    "            maxcount=count\r\n",
    "        count=0\r\n",
    "print(maxcount)"
   ],
   "outputs": [],
   "metadata": {}
  },
  {
   "cell_type": "code",
   "execution_count": 39,
   "source": [
    "def is_sorted(l):\r\n",
    "    x=[]\r\n",
    "    x=sorted(l)\r\n",
    "    if(x==l):\r\n",
    "        return True\r\n",
    "    else:\r\n",
    "        return False\r\n",
    "n=int(input(\"enter no of elments \"))\r\n",
    "ls=[int(input()) for i in range(n)]\r\n",
    "print(ls)\r\n",
    "print(is_sorted(ls))"
   ],
   "outputs": [
    {
     "output_type": "stream",
     "name": "stdout",
     "text": [
      "[4, 2, 1, 7, 8]\n",
      "False\n"
     ]
    }
   ],
   "metadata": {}
  }
 ],
 "metadata": {
  "orig_nbformat": 4,
  "language_info": {
   "name": "python",
   "version": "3.9.5",
   "mimetype": "text/x-python",
   "codemirror_mode": {
    "name": "ipython",
    "version": 3
   },
   "pygments_lexer": "ipython3",
   "nbconvert_exporter": "python",
   "file_extension": ".py"
  },
  "kernelspec": {
   "name": "python3",
   "display_name": "Python 3.9.5 64-bit"
  },
  "interpreter": {
   "hash": "999a1b757e9a1e569d1354e957c0f9a55f5e3cfbf534fec54f41f79ee175ede0"
  }
 },
 "nbformat": 4,
 "nbformat_minor": 2
}