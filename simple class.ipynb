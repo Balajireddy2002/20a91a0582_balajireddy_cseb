{
 "cells": [
  {
   "cell_type": "code",
   "execution_count": 21,
   "source": [
    "class person:\r\n",
    "    pc=0\r\n",
    "    def __init__(self,name,sec):\r\n",
    "        self.name=name\r\n",
    "        self.sec=sec\r\n",
    "    def printdet(self):\r\n",
    "        print(\"name is \",self.name)\r\n",
    "        print(\"section is \",self.sec)\r\n",
    "        print(\"roll no is\",self.pc)\r\n",
    "st1=person(\"balaji\",\"b\")\r\n",
    "st1.pc=82\r\n",
    "st1.printdet()\r\n",
    "print()\r\n",
    "st2=person(\"sunil\",\"b\")\r\n",
    "st2.pc=\"b1\"\r\n",
    "st2.printdet()\r\n",
    "print()\r\n",
    "st3=person(\"toperr RR\",\"b\")\r\n",
    "st3.pc=\"c0\"\r\n",
    "st3.printdet()\r\n",
    "\r\n",
    "\r\n"
   ],
   "outputs": [
    {
     "output_type": "stream",
     "name": "stdout",
     "text": [
      "name is  balaji\n",
      "section is  b\n",
      "roll no is 82\n",
      "\n",
      "name is  sunil\n",
      "section is  b\n",
      "roll no is b1\n",
      "\n",
      "name is  toperr RR\n",
      "section is  b\n",
      "roll no is c0\n"
     ]
    }
   ],
   "metadata": {}
  }
 ],
 "metadata": {
  "orig_nbformat": 4,
  "language_info": {
   "name": "python",
   "version": "3.9.5",
   "mimetype": "text/x-python",
   "codemirror_mode": {
    "name": "ipython",
    "version": 3
   },
   "pygments_lexer": "ipython3",
   "nbconvert_exporter": "python",
   "file_extension": ".py"
  },
  "kernelspec": {
   "name": "python3",
   "display_name": "Python 3.9.5 64-bit"
  },
  "interpreter": {
   "hash": "999a1b757e9a1e569d1354e957c0f9a55f5e3cfbf534fec54f41f79ee175ede0"
  }
 },
 "nbformat": 4,
 "nbformat_minor": 2
}