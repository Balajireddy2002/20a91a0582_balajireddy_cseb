{
 "cells": [
  {
   "cell_type": "markdown",
   "source": [
    "list methods\r\n",
    "\r\n",
    "\r\n",
    "1.append()->adds new element at the end of the list\r\n",
    "\r\n",
    "2.clear()->removes all the elements from a list\r\n",
    "\r\n",
    "3.copy()-> copy list from source list to destination list\r\n",
    "\r\n",
    "4.index()-> returns the index of a specified element\r\n",
    "\r\n",
    "5.insert()->used to insert a element at a specified position\r\n",
    "\r\n",
    "6.pop()->removes a elemnt from alist\r\n",
    "\r\n",
    "7.remove()-> used to remove a specific element from a list\r\n",
    "\r\n",
    "8.reverse()->reverse the gievn list\r\n",
    "\r\n",
    "9.sort()-> sorts the given list"
   ],
   "metadata": {}
  },
  {
   "cell_type": "code",
   "execution_count": 1,
   "source": [
    "#program for append method\r\n",
    "a=[1,2,3,4,5,6]\r\n",
    "a.append(7)\r\n",
    "print(a)"
   ],
   "outputs": [
    {
     "output_type": "stream",
     "name": "stdout",
     "text": [
      "[1, 2, 3, 4, 5, 6, 7]\n"
     ]
    }
   ],
   "metadata": {}
  },
  {
   "cell_type": "code",
   "execution_count": 3,
   "source": [
    "#clear method\r\n",
    "a.clear()\r\n",
    "print(a)"
   ],
   "outputs": [
    {
     "output_type": "stream",
     "name": "stdout",
     "text": [
      "[]\n"
     ]
    }
   ],
   "metadata": {}
  },
  {
   "cell_type": "code",
   "execution_count": 5,
   "source": [
    "#copying elements from source list to destination list\r\n",
    "x=[1,2,3,4]\r\n",
    "b=x.copy()\r\n",
    "print(b)"
   ],
   "outputs": [
    {
     "output_type": "stream",
     "name": "stdout",
     "text": [
      "[1, 2, 3, 4]\n"
     ]
    }
   ],
   "metadata": {}
  },
  {
   "cell_type": "code",
   "execution_count": 6,
   "source": [
    "#index()  method\r\n",
    "b.index(2)"
   ],
   "outputs": [
    {
     "output_type": "execute_result",
     "data": {
      "text/plain": [
       "1"
      ]
     },
     "metadata": {},
     "execution_count": 6
    }
   ],
   "metadata": {}
  },
  {
   "cell_type": "code",
   "execution_count": 7,
   "source": [
    "#insert() method \r\n",
    "b.insert(2,30)\r\n",
    "#note   in index(index,object)\r\n",
    "print(b)"
   ],
   "outputs": [
    {
     "output_type": "stream",
     "name": "stdout",
     "text": [
      "[1, 2, 30, 3, 4]\n"
     ]
    }
   ],
   "metadata": {}
  },
  {
   "cell_type": "code",
   "execution_count": 9,
   "source": [
    "#extend method in python\r\n",
    "x=[1,2,3,4]\r\n",
    "y=[5,6,7,8]\r\n",
    "x.extend(y)\r\n",
    "print(x)"
   ],
   "outputs": [
    {
     "output_type": "stream",
     "name": "stdout",
     "text": [
      "[1, 2, 3, 4, 5, 6, 7, 8]\n"
     ]
    }
   ],
   "metadata": {}
  },
  {
   "cell_type": "code",
   "execution_count": 13,
   "source": [
    "#pop() method\r\n",
    "x=[1,2,3,4,5]\r\n",
    "x.pop()\r\n",
    "print(x)\r\n",
    "x.pop(3)#pop(index)\r\n",
    "print(x)"
   ],
   "outputs": [
    {
     "output_type": "stream",
     "name": "stdout",
     "text": [
      "[1, 2, 3, 4]\n",
      "[1, 2, 3]\n"
     ]
    }
   ],
   "metadata": {}
  },
  {
   "cell_type": "code",
   "execution_count": 14,
   "source": [
    "#remove method--> it is element based\r\n",
    "x=[1,2,3,4,5]\r\n",
    "x.remove(3)\r\n",
    "print(x)"
   ],
   "outputs": [
    {
     "output_type": "stream",
     "name": "stdout",
     "text": [
      "[1, 2, 4, 5]\n"
     ]
    }
   ],
   "metadata": {}
  },
  {
   "cell_type": "code",
   "execution_count": 15,
   "source": [
    "#reverse( ) method\r\n",
    "f=[1,2,3,4,5]\r\n",
    "f.reverse()\r\n",
    "print(f)"
   ],
   "outputs": [
    {
     "output_type": "stream",
     "name": "stdout",
     "text": [
      "[5, 4, 3, 2, 1]\n"
     ]
    }
   ],
   "metadata": {}
  },
  {
   "cell_type": "code",
   "execution_count": 16,
   "source": [
    "#sort() method\r\n",
    "u=[4,9,50,3,69,7,8,1,0]\r\n",
    "u.sort()\r\n",
    "print(u)"
   ],
   "outputs": [
    {
     "output_type": "stream",
     "name": "stdout",
     "text": [
      "[0, 1, 3, 4, 7, 8, 9, 50, 69]\n"
     ]
    }
   ],
   "metadata": {}
  }
 ],
 "metadata": {
  "orig_nbformat": 4,
  "language_info": {
   "name": "python",
   "version": "3.9.5",
   "mimetype": "text/x-python",
   "codemirror_mode": {
    "name": "ipython",
    "version": 3
   },
   "pygments_lexer": "ipython3",
   "nbconvert_exporter": "python",
   "file_extension": ".py"
  },
  "kernelspec": {
   "name": "python3",
   "display_name": "Python 3.9.5 64-bit"
  },
  "interpreter": {
   "hash": "999a1b757e9a1e569d1354e957c0f9a55f5e3cfbf534fec54f41f79ee175ede0"
  }
 },
 "nbformat": 4,
 "nbformat_minor": 2
}